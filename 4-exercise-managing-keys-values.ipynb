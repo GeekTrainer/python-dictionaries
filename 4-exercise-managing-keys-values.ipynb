{
 "cells": [
  {
   "cell_type": "markdown",
   "source": [
    "# Calculating values\n",
    "\n",
    "In this scenario you will create an application which will identify if a student qualifies for a scholarship. If the student's GPA is greater than 3.5 they will receive the scholarship. You will use an exsiting dictionary object to perform the calculations.\n",
    "\n",
    "The next cell contains the student object. You will add the code in the following cells to create the application."
   ],
   "metadata": {}
  },
  {
   "cell_type": "code",
   "execution_count": 1,
   "source": [
    "# Provided grades\n",
    "# This might be loaded from a text file\n",
    "\n",
    "student_grades = {\n",
    "    '2019': 3.7,\n",
    "    '2020': 2.5,\n",
    "    '2021': 3.6\n",
    "}"
   ],
   "outputs": [],
   "metadata": {}
  },
  {
   "cell_type": "markdown",
   "source": [
    "Python dictionaries allow you to retrieve all the values and keys by using the `values` and `keys` methods respectively. Each method returns a list containing the data, which can then be used like a regular Python list. You can determine the number of items by using `len`, and iterate through it by using `for` loops.\n",
    "\n",
    "In the cell below, using the comment hints, add the necessary code to determine the average GPA for the student. For this example, we will divide the total GPA by the number of years."
   ],
   "metadata": {}
  },
  {
   "cell_type": "code",
   "execution_count": 2,
   "source": [
    "# Add the code to determine the average GPA\n",
    "# across all three years for the student.\n",
    "\n",
    "# Obtain the list of GPA values\n",
    "# Store the results in a variable named grades\n",
    "grades = student_grades.values()\n",
    "\n",
    "# Obtain the total number of values\n",
    "# Store the results in a variable named years\n",
    "years = len(grades)\n",
    "\n",
    "# Calculate the total by adding all the values\n",
    "# Store the value in a variable named total\n",
    "total = 0\n",
    "for grade in grades:\n",
    "    total = total + grade\n",
    "\n",
    "# Calculate the average by dividing the total by the number of years\n",
    "average = total / years\n",
    "\n",
    "# Print the average\n",
    "print(average)"
   ],
   "outputs": [
    {
     "output_type": "stream",
     "name": "stdout",
     "text": [
      "3.266666666666667\n"
     ]
    }
   ],
   "metadata": {}
  },
  {
   "cell_type": "markdown",
   "source": [
    "## Going beyond the numbers\n",
    "\n",
    "In the example above, you will notice the student does not qualify. Their GPA is ~3.3, which is below the established threshold of 3.5. However, people aren't defined by numbers, and an individual score doesn't always tell the full story.\n",
    "\n",
    "When creating applications which make decisions impacting people, it's often a good idea to dig a little deeper. If you look at their GPAs, you notice only one of the 3 years was below the qualifying GPA.\n",
    "\n",
    "For this student, it's possible something else happened during 2020 which impacted their ability to achieve the grades they normally would. In the cell below, code has been added to flag any year below 80% of their average GPA. This would indicate an outlier, where the student performed well below their normal level."
   ],
   "metadata": {}
  },
  {
   "cell_type": "code",
   "execution_count": 3,
   "source": [
    "# The code below walks through all years\n",
    "# For each year we examine the GPA and see if it is below\n",
    "# the 80% threshold of their average\n",
    "# If a year is found meeting this criteria, we print it on the screen\n",
    "\n",
    "for year in student_grades.keys():\n",
    "    if student_grades[year] < (average * .8):\n",
    "        print(f'This student had a difficult year in {year}')"
   ],
   "outputs": [
    {
     "output_type": "stream",
     "name": "stdout",
     "text": [
      "This student had a difficult year in 2020\n"
     ]
    }
   ],
   "metadata": {}
  },
  {
   "cell_type": "code",
   "execution_count": null,
   "source": [],
   "outputs": [],
   "metadata": {}
  }
 ],
 "metadata": {
  "orig_nbformat": 4,
  "language_info": {
   "name": "python",
   "version": "3.8.10",
   "mimetype": "text/x-python",
   "codemirror_mode": {
    "name": "ipython",
    "version": 3
   },
   "pygments_lexer": "ipython3",
   "nbconvert_exporter": "python",
   "file_extension": ".py"
  },
  "kernelspec": {
   "name": "python3",
   "display_name": "Python 3.8.10 64-bit"
  },
  "interpreter": {
   "hash": "916dbcbb3f70747c44a77c7bcd40155683ae19c65e1c03b4aa3499c5328201f1"
  }
 },
 "nbformat": 4,
 "nbformat_minor": 2
}