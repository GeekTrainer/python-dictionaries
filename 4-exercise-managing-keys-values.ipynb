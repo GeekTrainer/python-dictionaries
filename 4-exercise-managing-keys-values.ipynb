{
 "cells": [
  {
   "cell_type": "markdown",
   "source": [
    "# Calculating values\n",
    "\n",
    "In this scenario you will create an application which will identify if a student qualifies for a scholarship. If the student's GPA is greater than 3.5 they will receive the scholarship.\n",
    "\n",
    "The next cell contains the student object. You will add the code in the following cells to create the application."
   ],
   "metadata": {}
  },
  {
   "cell_type": "code",
   "execution_count": 7,
   "source": [
    "# Provided grades\n",
    "# This might be loaded from a text file\n",
    "# or a similar data store.\n",
    "\n",
    "student_grades = {\n",
    "    '2019': 3.7,\n",
    "    '2020': 2.6,\n",
    "    '2021': 3.6\n",
    "}"
   ],
   "outputs": [],
   "metadata": {}
  },
  {
   "cell_type": "code",
   "execution_count": 8,
   "source": [
    "# Add the code to determine the average GPA\n",
    "# across all three years for the student.\n",
    "\n",
    "# Obtain the list of GPA values\n",
    "values = student_grades.values()\n",
    "\n",
    "# Obtain the total number of values\n",
    "length = len(values)\n",
    "\n",
    "# Calculate the total\n",
    "total = 0\n",
    "for value in values:\n",
    "    total = total + value\n",
    "\n",
    "# Calculate the average\n",
    "average = total / length\n",
    "\n",
    "# Print the average\n",
    "print(average)"
   ],
   "outputs": [
    {
     "output_type": "stream",
     "name": "stdout",
     "text": [
      "3.3000000000000003\n"
     ]
    }
   ],
   "metadata": {}
  },
  {
   "cell_type": "markdown",
   "source": [
    "## Going beyond the numbers\n",
    "\n",
    "In the example above, you will notice the student does not qualify. Their GPA is ~3.3, which is below the established threshold of 3.5. However, people aren't defined by numbers, and an individual score doesn't always tell the full story.\n",
    "\n",
    "When creating applications which make decisions impacting people, it's often a good idea to dig a little deeper. If you look at their GPAs, you notice only one of the 3 years was below the qualifying GPA.\n",
    "\n",
    "For this student, it's possible something else happened during 2020 which impacted their ability to achieve the grades they normally would. We should have code which could flag such a student for further investigation."
   ],
   "metadata": {}
  },
  {
   "cell_type": "code",
   "execution_count": 10,
   "source": [
    "# Add code to loop through each year\n",
    "# in the dictionary. If an individual year\n",
    "# is below 80% of their average,\n",
    "# display a message to follow up with the student\n",
    "\n",
    "for year in student_grades.keys():\n",
    "    if student_grades[year] < (average * .8):\n",
    "        print(f'This student had a difficult year in {year}')"
   ],
   "outputs": [
    {
     "output_type": "stream",
     "name": "stdout",
     "text": [
      "This student had a difficult year in 2020\n"
     ]
    }
   ],
   "metadata": {}
  }
 ],
 "metadata": {
  "orig_nbformat": 4,
  "language_info": {
   "name": "python",
   "version": "3.8.10",
   "mimetype": "text/x-python",
   "codemirror_mode": {
    "name": "ipython",
    "version": 3
   },
   "pygments_lexer": "ipython3",
   "nbconvert_exporter": "python",
   "file_extension": ".py"
  },
  "kernelspec": {
   "name": "python3",
   "display_name": "Python 3.8.10 64-bit"
  },
  "interpreter": {
   "hash": "916dbcbb3f70747c44a77c7bcd40155683ae19c65e1c03b4aa3499c5328201f1"
  }
 },
 "nbformat": 4,
 "nbformat_minor": 2
}