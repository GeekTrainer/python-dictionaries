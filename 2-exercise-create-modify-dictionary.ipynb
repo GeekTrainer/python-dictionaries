{
 "metadata": {
  "language_info": {
   "codemirror_mode": {
    "name": "ipython",
    "version": 3
   },
   "file_extension": ".py",
   "mimetype": "text/x-python",
   "name": "python",
   "nbconvert_exporter": "python",
   "pygments_lexer": "ipython3",
   "version": "3.8.10"
  },
  "orig_nbformat": 4,
  "kernelspec": {
   "name": "python3",
   "display_name": "Python 3.8.10 64-bit"
  },
  "interpreter": {
   "hash": "916dbcbb3f70747c44a77c7bcd40155683ae19c65e1c03b4aa3499c5328201f1"
  }
 },
 "nbformat": 4,
 "nbformat_minor": 2,
 "cells": [
  {
   "cell_type": "markdown",
   "source": [
    "# Exercise: Create and modify a Python dictionary\n",
    "\n",
    "You previously learned about Python dictionaries, which allow you to model more complex data. Dictionaries are a collection of key/value pairs, and are very common in Python programs. Their flexibility allows you to dynamically work with related values without having to create classes or objects.\n",
    "\n",
    "A dictionary is indicated in Python by using curly braces (`{ }`), with key/value pairs separated by colons (`:`). Keys are string literals, and values can be of any data type.\n",
    "\n",
    "```python\n",
    "demo = {\n",
    "    'key': 'value',\n",
    "    'number': 42\n",
    "}\n",
    "```\n",
    "\n",
    "For this exercise, you will create a dictionary to store information about a student. The dictionary you create will store the name, the school they attend, and their [grade point average (GPA)](https://en.wikipedia.org/wiki/Grading_in_education).\n",
    "\n",
    "When creating the dictionary, note that GPA will be modified later by adding and subtracting values, so ensure the correct data type is used.\n"
   ],
   "metadata": {}
  },
  {
   "cell_type": "code",
   "execution_count": 2,
   "source": [
    "# Add the code to create a new dictionary object named \"student\".\n",
    "# Populate it with the following information:\n",
    "#\n",
    "# name: Riya\n",
    "# school: Oceanside Academy\n",
    "\n",
    "student = {\n",
    "    'name': 'Riya',\n",
    "    'school': 'Oceanside Academy',\n",
    "}"
   ],
   "outputs": [],
   "metadata": {}
  },
  {
   "cell_type": "markdown",
   "source": [
    "To retrieve values, you can either use the `get` method or the index operator (`[ ]`) with the name of the key you wish to retrieve."
   ],
   "metadata": {}
  },
  {
   "cell_type": "code",
   "execution_count": 3,
   "source": [
    "# Display the name of the student and the school they attend\n",
    "\n",
    "print(f'{student[\"name\"]} attends {student[\"school\"]}')"
   ],
   "outputs": [
    {
     "output_type": "stream",
     "name": "stdout",
     "text": [
      "Riya attends Oceanside Academy\n"
     ]
    }
   ],
   "metadata": {}
  },
  {
   "cell_type": "markdown",
   "source": [
    "You can update existing keys or create new ones by either using the `update` method or using the index operator (`[ ]`). When using `update` you pass in a new dictionary object with the updated or new values. When the index operator you specify the key name and assign a new value.\n",
    "\n",
    "```python\n",
    "demo['new_key'] = 'New value'\n",
    "```"
   ],
   "metadata": {}
  },
  {
   "cell_type": "code",
   "execution_count": 4,
   "source": [
    "# Add a new value with a key of 'gpa'\n",
    "# This new value should store a dictionary with the student's GPA\n",
    "# for the fall and spring semesters of 3.6 and 3.5 respectively\n",
    "\n",
    "student['gpa'] = {\n",
    "    'fall': 3.6,\n",
    "    'spring': 3.5\n",
    "}"
   ],
   "outputs": [],
   "metadata": {}
  },
  {
   "cell_type": "code",
   "execution_count": 5,
   "source": [
    "# Add .1 to the student's fall GPA\n",
    "\n",
    "student['gpa']['fall'] = student['gpa']['fall'] + .1"
   ],
   "outputs": [],
   "metadata": {}
  },
  {
   "cell_type": "code",
   "execution_count": 6,
   "source": [
    "# Print the student's name with their fall GPA\n",
    "\n",
    "print(f'{student[\"name\"]} had a {student[\"gpa\"][\"fall\"]} in the fall')"
   ],
   "outputs": [
    {
     "output_type": "stream",
     "name": "stdout",
     "text": [
      "Riya had a 3.7 in the fall\n"
     ]
    }
   ],
   "metadata": {}
  },
  {
   "cell_type": "code",
   "execution_count": null,
   "source": [],
   "outputs": [],
   "metadata": {}
  }
 ]
}