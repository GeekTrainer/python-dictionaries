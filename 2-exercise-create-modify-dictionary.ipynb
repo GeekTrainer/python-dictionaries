{
 "metadata": {
  "language_info": {
   "codemirror_mode": {
    "name": "ipython",
    "version": 3
   },
   "file_extension": ".py",
   "mimetype": "text/x-python",
   "name": "python",
   "nbconvert_exporter": "python",
   "pygments_lexer": "ipython3",
   "version": "3.8.10"
  },
  "orig_nbformat": 4,
  "kernelspec": {
   "name": "python3",
   "display_name": "Python 3.8.10 64-bit"
  },
  "interpreter": {
   "hash": "916dbcbb3f70747c44a77c7bcd40155683ae19c65e1c03b4aa3499c5328201f1"
  }
 },
 "nbformat": 4,
 "nbformat_minor": 2,
 "cells": [
  {
   "cell_type": "markdown",
   "source": [
    "# Exercise: Create and modify a Python dictionary\n",
    "\n",
    "You previously learned about Python dictionaries, which allow you to model more complex data. Dictionaries are a collection of key/value pairs, and are very common in Python programs. Their flexibility allows you to dynamically work with related values without having to create classes.\n",
    "\n",
    "For this exercise, you will create a dictionary to store information about a student. The dictionary you create will store the name, the school they attend, and their [grade point average (GPA)](https://en.wikipedia.org/wiki/Grading_in_education).\n",
    "\n",
    "When creating the dictionary, note that GPA will be modified later by adding and subtracting values, so ensure the correct data type is used."
   ],
   "metadata": {}
  },
  {
   "cell_type": "code",
   "execution_count": 2,
   "source": [
    "# Add the code to create a new dictionary object named \"student\". Populate it with the following information:\n",
    "#\n",
    "# Name: Riya\n",
    "# School: Oceanside Academy\n",
    "# GPA: 3.7\n",
    "\n",
    "student = {\n",
    "    'name': 'Riya',\n",
    "    'school': 'Oceanside Academy',\n",
    "}"
   ],
   "outputs": [],
   "metadata": {}
  },
  {
   "cell_type": "code",
   "execution_count": 3,
   "source": [
    "# Display the name of the student and the school they attend\n",
    "\n",
    "print(f'{student[\"name\"]} attends {student[\"school\"]}')"
   ],
   "outputs": [
    {
     "output_type": "stream",
     "name": "stdout",
     "text": [
      "Riya attends Oceanside Academy\n"
     ]
    }
   ],
   "metadata": {}
  },
  {
   "cell_type": "code",
   "execution_count": 7,
   "source": [
    "# Add a new value with a key of 'gpa'\n",
    "# This new value should store a dictionary with the student's GPA\n",
    "# for the fall and spring semesters of 3.6 and 3.5 respectively\n",
    "\n",
    "student['gpa'] = {\n",
    "    'fall': 3.6,\n",
    "    'spring': 3.5\n",
    "}"
   ],
   "outputs": [],
   "metadata": {}
  },
  {
   "cell_type": "code",
   "execution_count": 8,
   "source": [
    "# Add .1 to the student's fall GPA\n",
    "\n",
    "student['gpa']['fall'] = student['gpa']['fall'] + .1"
   ],
   "outputs": [],
   "metadata": {}
  },
  {
   "cell_type": "code",
   "execution_count": 9,
   "source": [
    "# Print the student's name with their fall GPA\n",
    "\n",
    "print(f'{student[\"name\"]} had a {student[\"gpa\"][\"fall\"]}')"
   ],
   "outputs": [
    {
     "output_type": "stream",
     "name": "stdout",
     "text": [
      "Riya had a 3.7\n"
     ]
    }
   ],
   "metadata": {}
  },
  {
   "cell_type": "code",
   "execution_count": null,
   "source": [],
   "outputs": [],
   "metadata": {}
  }
 ]
}